{
 "cells": [
  {
   "cell_type": "code",
   "execution_count": 1,
   "metadata": {},
   "outputs": [],
   "source": [
    "%load_ext autoreload\n",
    "%autoreload 2\n",
    "%matplotlib inline\n",
    "from IPython.core.debugger import Pdb\n",
    "import torch\n",
    "import torch.nn as nn\n",
    "import torch.nn.functional as F"
   ]
  },
  {
   "cell_type": "code",
   "execution_count": 37,
   "metadata": {},
   "outputs": [
    {
     "data": {
      "text/plain": [
       "tensor([[   0,    1,    2,  ...,   97,   98,   99],\n",
       "        [ 100,  101,  102,  ...,  197,  198,  199],\n",
       "        [ 200,  201,  202,  ...,  297,  298,  299],\n",
       "        ...,\n",
       "        [9700, 9701, 9702,  ..., 9797, 9798, 9799],\n",
       "        [9800, 9801, 9802,  ..., 9897, 9898, 9899],\n",
       "        [9900, 9901, 9902,  ..., 9997, 9998, 9999]])"
      ]
     },
     "execution_count": 37,
     "metadata": {},
     "output_type": "execute_result"
    }
   ],
   "source": [
    "a = torch.arange(10000)\n",
    "a = a.view(100, -1)\n",
    "a"
   ]
  },
  {
   "cell_type": "code",
   "execution_count": 38,
   "metadata": {},
   "outputs": [],
   "source": [
    "def split(t=1_000_000):\n",
    "    for i in range(t):\n",
    "        a_ = torch.split(a, 50, dim=1)\n",
    "    return a_"
   ]
  },
  {
   "cell_type": "code",
   "execution_count": 39,
   "metadata": {},
   "outputs": [],
   "source": [
    "def split2(t=1_000_000):\n",
    "    for i in range(t):\n",
    "        a_ = (a[:, :50], a[:, 51:])\n",
    "    return a_"
   ]
  },
  {
   "cell_type": "code",
   "execution_count": 44,
   "metadata": {
    "scrolled": true
   },
   "outputs": [
    {
     "name": "stdout",
     "output_type": "stream",
     "text": [
      "CPU times: user 48.2 ms, sys: 2.62 ms, total: 50.9 ms\n",
      "Wall time: 53.4 ms\n"
     ]
    },
    {
     "data": {
      "text/plain": [
       "(tensor([[   0,    1,    2,  ...,   47,   48,   49],\n",
       "         [ 100,  101,  102,  ...,  147,  148,  149],\n",
       "         [ 200,  201,  202,  ...,  247,  248,  249],\n",
       "         ...,\n",
       "         [9700, 9701, 9702,  ..., 9747, 9748, 9749],\n",
       "         [9800, 9801, 9802,  ..., 9847, 9848, 9849],\n",
       "         [9900, 9901, 9902,  ..., 9947, 9948, 9949]]),\n",
       " tensor([[  50,   51,   52,  ...,   97,   98,   99],\n",
       "         [ 150,  151,  152,  ...,  197,  198,  199],\n",
       "         [ 250,  251,  252,  ...,  297,  298,  299],\n",
       "         ...,\n",
       "         [9750, 9751, 9752,  ..., 9797, 9798, 9799],\n",
       "         [9850, 9851, 9852,  ..., 9897, 9898, 9899],\n",
       "         [9950, 9951, 9952,  ..., 9997, 9998, 9999]]))"
      ]
     },
     "execution_count": 44,
     "metadata": {},
     "output_type": "execute_result"
    }
   ],
   "source": [
    "%%time\n",
    "split(10000)"
   ]
  },
  {
   "cell_type": "code",
   "execution_count": 45,
   "metadata": {
    "scrolled": true
   },
   "outputs": [
    {
     "name": "stdout",
     "output_type": "stream",
     "text": [
      "CPU times: user 66.6 ms, sys: 2.44 ms, total: 69 ms\n",
      "Wall time: 71.4 ms\n"
     ]
    },
    {
     "data": {
      "text/plain": [
       "(tensor([[   0,    1,    2,  ...,   47,   48,   49],\n",
       "         [ 100,  101,  102,  ...,  147,  148,  149],\n",
       "         [ 200,  201,  202,  ...,  247,  248,  249],\n",
       "         ...,\n",
       "         [9700, 9701, 9702,  ..., 9747, 9748, 9749],\n",
       "         [9800, 9801, 9802,  ..., 9847, 9848, 9849],\n",
       "         [9900, 9901, 9902,  ..., 9947, 9948, 9949]]),\n",
       " tensor([[  51,   52,   53,  ...,   97,   98,   99],\n",
       "         [ 151,  152,  153,  ...,  197,  198,  199],\n",
       "         [ 251,  252,  253,  ...,  297,  298,  299],\n",
       "         ...,\n",
       "         [9751, 9752, 9753,  ..., 9797, 9798, 9799],\n",
       "         [9851, 9852, 9853,  ..., 9897, 9898, 9899],\n",
       "         [9951, 9952, 9953,  ..., 9997, 9998, 9999]]))"
      ]
     },
     "execution_count": 45,
     "metadata": {},
     "output_type": "execute_result"
    }
   ],
   "source": [
    "%%time\n",
    "split2(10000)"
   ]
  },
  {
   "cell_type": "code",
   "execution_count": null,
   "metadata": {},
   "outputs": [],
   "source": []
  }
 ],
 "metadata": {
  "kernelspec": {
   "display_name": "Python 3",
   "language": "python",
   "name": "python3"
  },
  "language_info": {
   "codemirror_mode": {
    "name": "ipython",
    "version": 3
   },
   "file_extension": ".py",
   "mimetype": "text/x-python",
   "name": "python",
   "nbconvert_exporter": "python",
   "pygments_lexer": "ipython3",
   "version": "3.7.2"
  }
 },
 "nbformat": 4,
 "nbformat_minor": 2
}
