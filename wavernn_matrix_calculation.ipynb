{
 "cells": [
  {
   "cell_type": "markdown",
   "metadata": {},
   "source": [
    "##### WaveRNN Matrix Calculation"
   ]
  },
  {
   "cell_type": "code",
   "execution_count": 4,
   "metadata": {},
   "outputs": [
    {
     "name": "stdout",
     "output_type": "stream",
     "text": [
      "The autoreload extension is already loaded. To reload it, use:\n",
      "  %reload_ext autoreload\n"
     ]
    }
   ],
   "source": [
    "%load_ext autoreload\n",
    "%autoreload 2\n",
    "%matplotlib inline\n",
    "from IPython.core.debugger import Pdb\n",
    "import torch\n",
    "import torch.nn as nn\n",
    "import torch.nn.functional as F"
   ]
  },
  {
   "cell_type": "markdown",
   "metadata": {},
   "source": [
    "```\n",
    "math::\n",
    "    xt = [ct-1, ft-1, ct]  # input\n",
    "    ut = σ(Ru ht-1 + Iu*xt + bu)  # update gate\n",
    "    rt = σ(Rr ht-1 + Ir*xt + br)  # reset gate\n",
    "    et = tanh(rt∘(Re ht-1) + Ie*xt + be)  # recurrent unit\n",
    "    ht = ut∘ht-1 + (1-u)∘et # next hidden state\n",
    "    yc, yf = split(ht)  # coarse, fine\n",
    "    P(ct) = softmax(O2 relu(O1 yc))  # coarse distribution\n",
    "    P(ft) = softmax(O4 relu(O3 yf))  # fine distribution\n",
    "```"
   ]
  },
  {
   "cell_type": "code",
   "execution_count": 5,
   "metadata": {},
   "outputs": [],
   "source": [
    "# hidden state size 896 (56 num of GPU multi-processors *8 minimum warps size assigned to each processor *2)\n",
    "hidden_size = 896"
   ]
  },
  {
   "cell_type": "code",
   "execution_count": 6,
   "metadata": {},
   "outputs": [],
   "source": [
    "# category size 256 (8bit)\n",
    "category_size = 256"
   ]
  },
  {
   "cell_type": "code",
   "execution_count": 7,
   "metadata": {},
   "outputs": [
    {
     "name": "stdout",
     "output_type": "stream",
     "text": [
      "ht-1 = torch.Size([1, 896])\n"
     ]
    }
   ],
   "source": [
    "# ht-1 (previous hidden) \n",
    "ht_1 = torch.Tensor(1, hidden_size)\n",
    "print(f'ht-1 = {ht_1.shape}')"
   ]
  },
  {
   "cell_type": "code",
   "execution_count": 8,
   "metadata": {},
   "outputs": [
    {
     "name": "stdout",
     "output_type": "stream",
     "text": [
      "ct-1 = torch.Size([1, 1])\n",
      "ft-1 = torch.Size([1, 1])\n",
      "ct = torch.Size([1, 1])\n"
     ]
    }
   ],
   "source": [
    "# ct-1 (previous coarse), ft-1 (previous fine), ct(current coarse)\n",
    "ct_1 = torch.Tensor(1, 1)\n",
    "ft_1 = torch.Tensor(1, 1)\n",
    "ct = torch.Tensor(1, 1)\n",
    "print(f'ct-1 = {ct_1.shape}')\n",
    "print(f'ft-1 = {ft_1.shape}')\n",
    "print(f'ct = {ct.shape}')"
   ]
  },
  {
   "cell_type": "code",
   "execution_count": 9,
   "metadata": {},
   "outputs": [
    {
     "name": "stdout",
     "output_type": "stream",
     "text": [
      "xt = [ct-1, ft-1, ct] torch.Size([1, 1]) torch.Size([1, 1]) torch.Size([1, 1])\n"
     ]
    }
   ],
   "source": [
    "# input xt = [ct-1, ft-1, ct]\n",
    "xt = [ct_1, ft_1, ct]\n",
    "print(f'xt = [ct-1, ft-1, ct] {xt[0].shape} {xt[1].shape} {xt[2].shape}')"
   ]
  },
  {
   "cell_type": "code",
   "execution_count": 10,
   "metadata": {},
   "outputs": [
    {
     "name": "stdout",
     "output_type": "stream",
     "text": [
      "R = Linear(in_features=896, out_features=2688, bias=True)\n"
     ]
    }
   ],
   "source": [
    "# gating unit R (U)\n",
    "R = nn.Linear(hidden_size, hidden_size*3)\n",
    "print(f'R = {R}')"
   ]
  },
  {
   "cell_type": "code",
   "execution_count": 11,
   "metadata": {},
   "outputs": [
    {
     "name": "stdout",
     "output_type": "stream",
     "text": [
      "Ic = Linear(in_features=2, out_features=1344, bias=True)\n",
      "If = Linear(in_features=2, out_features=1344, bias=True)\n"
     ]
    }
   ],
   "source": [
    "# hidden state I (W) (coarse, fine)\n",
    "Ic = nn.Linear(2, 3*hidden_size//2)\n",
    "If = nn.Linear(3, 3*hidden_size//2)\n",
    "print(f'Ic = {Ic}')\n",
    "print(f'If = {Ic}')"
   ]
  },
  {
   "cell_type": "code",
   "execution_count": 12,
   "metadata": {},
   "outputs": [],
   "source": [
    "# transoform matrices into categorical distributions\n",
    "O1 = nn.Linear(hidden_size//2, hidden_size//2)\n",
    "O2 = nn.Linear(hidden_size//2, hidden_size//2)\n",
    "O3 = nn.Linear(hidden_size//2, category_size)\n",
    "O4 = nn.Linear(hidden_size//2, category_size)"
   ]
  },
  {
   "cell_type": "code",
   "execution_count": 13,
   "metadata": {},
   "outputs": [
    {
     "name": "stdout",
     "output_type": "stream",
     "text": [
      "R ht_1 => tensor([[nan, nan, nan,  ..., nan, nan, nan]], grad_fn=<AddmmBackward>) torch.Size([1, 2688])\n"
     ]
    }
   ],
   "source": [
    "# fully connected (previous hidden ht-1) x (gating unit R (U))\n",
    "Rht_1 = R(ht_1)\n",
    "print(f'R ht_1 => {Rht_1} {Rht_1.shape}')"
   ]
  },
  {
   "cell_type": "code",
   "execution_count": 14,
   "metadata": {},
   "outputs": [
    {
     "name": "stdout",
     "output_type": "stream",
     "text": [
      "Ru ht_1 => torch.Size([1, 896])\n",
      "Rr ht_1 => torch.Size([1, 896])\n",
      "Re ht_1 => torch.Size([1, 896])\n"
     ]
    }
   ],
   "source": [
    "# split R (U)\n",
    "Ruht_1, Rrht_1, Reht_1 = torch.split(Rht_1, hidden_size, dim=1)\n",
    "print(f'Ru ht_1 => {Ruht_1.shape}')\n",
    "print(f'Rr ht_1 => {Ruht_1.shape}')\n",
    "print(f'Re ht_1 => {Ruht_1.shape}')"
   ]
  },
  {
   "cell_type": "code",
   "execution_count": 15,
   "metadata": {},
   "outputs": [
    {
     "name": "stdout",
     "output_type": "stream",
     "text": [
      "Ic*xt => tensor([[ 0.2323,  0.4750,  0.6151,  ..., -0.0697, -0.6429, -0.4561]],\n",
      "       grad_fn=<AddmmBackward>) torch.Size([1, 1344])\n"
     ]
    }
   ],
   "source": [
    "# fully connected (xt) x (hidden state If (W)) (coarse part)\n",
    "Icxt = Ic(torch.cat((xt[0], xt[1]), dim=1))\n",
    "print(f'Ic*xt => {Icxt} {Icxt.shape}')"
   ]
  },
  {
   "cell_type": "code",
   "execution_count": 16,
   "metadata": {
    "scrolled": true
   },
   "outputs": [
    {
     "name": "stdout",
     "output_type": "stream",
     "text": [
      "If*xt => tensor([[ 0.1895, -0.2494,  0.0175,  ..., -0.1684,  0.1494, -0.4013]],\n",
      "       grad_fn=<AddmmBackward>) torch.Size([1, 1344])\n"
     ]
    }
   ],
   "source": [
    "# fully connected (xt) x (hidden state Ic (W)) (fine part)\n",
    "Ifxt = If(torch.cat((xt[0], xt[1], xt[2]), dim=1))\n",
    "print(f'If*xt => {Ifxt} {Ifxt.shape}')"
   ]
  },
  {
   "cell_type": "code",
   "execution_count": 17,
   "metadata": {
    "scrolled": true
   },
   "outputs": [
    {
     "name": "stdout",
     "output_type": "stream",
     "text": [
      "Iu*xt => torch.Size([1, 896])\n",
      "Ir*xt => torch.Size([1, 896])\n",
      "Ie*xt => torch.Size([1, 896])\n"
     ]
    }
   ],
   "source": [
    "# split I\n",
    "Iuxt = torch.cat((Icxt[:,:hidden_size//2], Ifxt[:,:hidden_size//2]), dim=1)\n",
    "Irxt = torch.cat((Icxt[:,hidden_size//2:2*hidden_size//2], Ifxt[:,hidden_size//2:2*hidden_size//2]), dim=1)\n",
    "Iext = torch.cat((Icxt[:,2*hidden_size//2:3*hidden_size//2], Ifxt[:,2*hidden_size//2:3*hidden_size//2]), dim=1)\n",
    "print(f'Iu*xt => {Iuxt.shape}')\n",
    "print(f'Ir*xt => {Irxt.shape}')\n",
    "print(f'Ie*xt => {Irxt.shape}')"
   ]
  },
  {
   "cell_type": "code",
   "execution_count": 18,
   "metadata": {},
   "outputs": [
    {
     "name": "stdout",
     "output_type": "stream",
     "text": [
      "bu = torch.Size([896]), br = torch.Size([896]), be = torch.Size([896])\n"
     ]
    }
   ],
   "source": [
    "# bias terms\n",
    "bu = nn.Parameter(torch.zeros(hidden_size))\n",
    "br = nn.Parameter(torch.zeros(hidden_size))\n",
    "be = nn.Parameter(torch.zeros(hidden_size))\n",
    "print(f'bu = {bu.shape}, br = {br.shape}, be = {be.shape}')"
   ]
  },
  {
   "cell_type": "code",
   "execution_count": 19,
   "metadata": {},
   "outputs": [
    {
     "name": "stdout",
     "output_type": "stream",
     "text": [
      "ut = σ(Ru ht-1 + Iu*xt + bu) torch.Size([1, 896])\n"
     ]
    }
   ],
   "source": [
    "# ut (update gate)\n",
    "ut = torch.sigmoid(Ruht_1 + Iuxt + bu)\n",
    "print(f'ut = σ(Ru ht-1 + Iu*xt + bu) {ut.shape}')"
   ]
  },
  {
   "cell_type": "code",
   "execution_count": 20,
   "metadata": {},
   "outputs": [
    {
     "name": "stdout",
     "output_type": "stream",
     "text": [
      "rt = σ(Rr ht-1 + Ir*xt + br) torch.Size([1, 896])\n"
     ]
    }
   ],
   "source": [
    "# rt (reset gate)\n",
    "rt = torch.sigmoid(Rrht_1 + Irxt + br)\n",
    "print(f'rt = σ(Rr ht-1 + Ir*xt + br) {rt.shape}')"
   ]
  },
  {
   "cell_type": "code",
   "execution_count": 21,
   "metadata": {},
   "outputs": [
    {
     "name": "stdout",
     "output_type": "stream",
     "text": [
      "et = tanh(rt∘(Re ht-1) + Ie*xt + be) torch.Size([1, 896])\n"
     ]
    }
   ],
   "source": [
    "# et (recurrent unit)\n",
    "et = torch.tanh(rt*(Reht_1) + Iext + be)\n",
    "print(f'et = tanh(rt∘(Re ht-1) + Ie*xt + be) {et.shape}')"
   ]
  },
  {
   "cell_type": "code",
   "execution_count": 22,
   "metadata": {},
   "outputs": [
    {
     "name": "stdout",
     "output_type": "stream",
     "text": [
      "ht = ut∘ht-1 + (1-u)*et torch.Size([1, 896])\n"
     ]
    }
   ],
   "source": [
    "# ht (next hidden state)\n",
    "ht = ut*ht_1 + (1-ut)*et\n",
    "print(f'ht = ut∘ht-1 + (1-u)*et {ht.shape}')"
   ]
  },
  {
   "cell_type": "code",
   "execution_count": 23,
   "metadata": {},
   "outputs": [
    {
     "name": "stdout",
     "output_type": "stream",
     "text": [
      "yc, yf = split(ht)  torch.Size([1, 448]) torch.Size([1, 448])\n"
     ]
    }
   ],
   "source": [
    "# yc, yf (coarse, fine)\n",
    "yc, yf = torch.split(ht, hidden_size//2, dim=1)\n",
    "print(f'yc, yf = split(ht)  {yc.shape} {yf.shape}')"
   ]
  },
  {
   "cell_type": "code",
   "execution_count": 24,
   "metadata": {
    "scrolled": true
   },
   "outputs": [
    {
     "name": "stdout",
     "output_type": "stream",
     "text": [
      "P(ct) = softmax(O2 relu(O1 yc)) torch.Size([1, 256])\n"
     ]
    }
   ],
   "source": [
    "# P(ct) coarse distribution\n",
    "Pct = O3(torch.relu(O1(yc)))\n",
    "print(f'P(ct) = softmax(O2 relu(O1 yc)) {Pct.shape}')"
   ]
  },
  {
   "cell_type": "code",
   "execution_count": 25,
   "metadata": {},
   "outputs": [
    {
     "name": "stdout",
     "output_type": "stream",
     "text": [
      "P(ft) = softmax(O4 relu(O2 yf)) torch.Size([1, 256])\n"
     ]
    }
   ],
   "source": [
    "# P(ft) fine distribution\n",
    "Pft = O4(torch.relu(O2(yf)))\n",
    "print(f'P(ft) = softmax(O4 relu(O2 yf)) {Pft.shape}')"
   ]
  }
 ],
 "metadata": {
  "kernelspec": {
   "display_name": "Python 3",
   "language": "python",
   "name": "python3"
  },
  "language_info": {
   "codemirror_mode": {
    "name": "ipython",
    "version": 3
   },
   "file_extension": ".py",
   "mimetype": "text/x-python",
   "name": "python",
   "nbconvert_exporter": "python",
   "pygments_lexer": "ipython3",
   "version": "3.7.2"
  }
 },
 "nbformat": 4,
 "nbformat_minor": 2
}
